{
 "cells": [
  {
   "cell_type": "code",
   "execution_count": 1,
   "metadata": {},
   "outputs": [],
   "source": [
    "import os\n",
    "import json\n",
    "import time\n",
    "import copy\n",
    "from copy import deepcopy\n",
    "from collections import defaultdict\n",
    "\n",
    "import numpy as np\n",
    "import pandas as pd\n",
    "\n",
    "import torch\n",
    "import torch.nn as nn\n",
    "import torch.optim as optim\n",
    "from torch.optim import lr_scheduler\n",
    "\n",
    "from torch.utils.data import Dataset, DataLoader\n",
    "from torchvision import transforms, utils, models\n",
    "\n",
    "from skimage import io\n",
    "\n",
    "import matplotlib.pyplot as plt\n",
    "from matplotlib import patches, patheffects\n",
    "\n",
    "import imgaug as ia\n",
    "from imgaug import augmenters as iaa\n",
    "\n",
    "from sklearn.model_selection import train_test_split\n",
    "\n",
    "from tqdm import tqdm"
   ]
  },
  {
   "cell_type": "code",
   "execution_count": 2,
   "metadata": {},
   "outputs": [],
   "source": [
    "import torch.nn.functional as F"
   ]
  },
  {
   "cell_type": "code",
   "execution_count": 3,
   "metadata": {},
   "outputs": [],
   "source": [
    "class Flatten(nn.Module):\n",
    "    def __init__(self): \n",
    "        super().__init__()\n",
    "    def forward(self, x): \n",
    "        return x.view(x.size(0), -1)\n",
    "\n",
    "class Identity(nn.Module):\n",
    "    \"\"\"identity layer\"\"\"\n",
    "    def __init__(self):\n",
    "        super().__init__()\n",
    "        \n",
    "    def forward(self, x):\n",
    "        return x\n",
    "    \n",
    "class RNetCustom(nn.Module):\n",
    "    def __init__(self, num_cat):\n",
    "        super().__init__()\n",
    "        self.num_bbox_param = 4 \n",
    "        self.num_cat = num_cat\n",
    "        \n",
    "        self.backbone = self._prep_backbone()\n",
    "        self.flatten = Flatten()\n",
    "        self.relu_1 = nn.ReLU()\n",
    "        self.dropout_1 = nn.Dropout(p=0.5)\n",
    "        self.fc_2 = nn.Linear(512 * 7 * 7, 256)\n",
    "        self.relu_2 = nn.ReLU()\n",
    "        self.batchnorm_2 = nn.BatchNorm1d(256)\n",
    "        self.dropout_2 = nn.Dropout(p=0.5)\n",
    "        self.fc_3 = nn.Linear(256, self.num_bbox_param + self.num_cat )\n",
    "        \n",
    "    def _prep_backbone(self):     \n",
    "        base_model = models.resnet34(pretrained=True)\n",
    "        removed = list(base_model.children())[:-2]\n",
    "        backbone = nn.Sequential(*removed)\n",
    "        for param in backbone.parameters():\n",
    "            param.require_grad = False\n",
    "        return backbone\n",
    "    \n",
    "    def forward(self, x):\n",
    "        x = self.backbone(x)\n",
    "        x = self.flatten(x)\n",
    "        x = self.relu_1(x)\n",
    "        x = self.dropout_1(x)\n",
    "        x = self.fc_2(x)\n",
    "        x = self.relu_2(x)\n",
    "        x = self.batchnorm_2(x)\n",
    "        x = self.dropout_2(x)\n",
    "        x = self.fc_3(x)\n",
    "\n",
    "        y_pred = x\n",
    "        return y_pred"
   ]
  },
  {
   "cell_type": "code",
   "execution_count": 4,
   "metadata": {},
   "outputs": [],
   "source": [
    "model_ft = RNetCustom(num_cat=20)"
   ]
  },
  {
   "cell_type": "code",
   "execution_count": 5,
   "metadata": {},
   "outputs": [],
   "source": [
    "IMG_SIZE = 224\n",
    "CHANNEL = 3\n",
    "BATCH_SIZE = 5\n",
    "BBOX_PPTS = 4\n",
    "\n",
    "X = torch.randn((BATCH_SIZE, CHANNEL, IMG_SIZE, IMG_SIZE), requires_grad=True)"
   ]
  },
  {
   "cell_type": "code",
   "execution_count": 6,
   "metadata": {},
   "outputs": [
    {
     "data": {
      "text/plain": [
       "torch.Size([5, 3, 224, 224])"
      ]
     },
     "execution_count": 6,
     "metadata": {},
     "output_type": "execute_result"
    }
   ],
   "source": [
    "X.shape"
   ]
  },
  {
   "cell_type": "code",
   "execution_count": 7,
   "metadata": {},
   "outputs": [],
   "source": [
    "y_pred = model_ft(X)"
   ]
  },
  {
   "cell_type": "code",
   "execution_count": 8,
   "metadata": {},
   "outputs": [
    {
     "data": {
      "text/plain": [
       "tensor([[-0.0365,  0.6733, -0.2702, -0.0959,  0.4068,  0.1084,  0.5923,\n",
       "         -0.6223, -0.2043,  0.2570,  0.5473, -0.4048,  0.2241,  0.1597,\n",
       "          0.2962, -0.5246,  0.0277,  0.0504, -0.0784, -0.0658, -0.7119,\n",
       "          0.2685,  0.6639,  0.2893],\n",
       "        [ 0.2176, -0.5140, -0.4534, -1.1669, -0.2613,  0.2348, -0.9991,\n",
       "         -0.1556, -0.5176, -0.3121, -0.9183,  0.8390, -0.4946,  1.2685,\n",
       "         -0.9822,  1.1606, -0.1499, -0.5758,  0.7510,  0.0293,  0.7246,\n",
       "          0.1157,  0.2777, -1.0950],\n",
       "        [ 0.5698, -0.1406,  0.3188, -0.2991,  0.4894,  0.2005, -0.2464,\n",
       "          0.1024,  0.9853, -0.6283, -0.3543,  0.3930, -0.5451, -0.3930,\n",
       "          0.4608, -0.3100,  0.3366,  0.3390, -0.2148, -0.1253, -0.4046,\n",
       "          0.8575, -0.2015,  0.9056],\n",
       "        [ 0.0851, -0.3475, -0.3155, -0.2202,  0.8900, -0.4248,  0.6112,\n",
       "         -0.5368,  0.3978,  0.0730,  0.1026,  0.3698,  0.1792, -0.1702,\n",
       "          0.3014,  0.6212,  0.3096,  0.1816, -0.7029,  0.1568,  0.7637,\n",
       "          0.0114, -0.9216,  0.7940],\n",
       "        [-0.7322, -0.3081,  0.3408,  0.1264, -0.4107, -0.7081, -0.0260,\n",
       "          0.5328,  0.3504,  0.1193,  0.3219, -0.1751, -0.7295, -0.3881,\n",
       "          0.1142, -0.5738, -0.6806,  0.2428, -0.4396, -0.5331,  0.3161,\n",
       "         -0.1415,  0.5322,  0.0450]])"
      ]
     },
     "execution_count": 8,
     "metadata": {},
     "output_type": "execute_result"
    }
   ],
   "source": [
    "y_pred"
   ]
  },
  {
   "cell_type": "code",
   "execution_count": 9,
   "metadata": {},
   "outputs": [],
   "source": [
    "y_pred_bb, y_pred_cat = y_pred[:, :4], y_pred[:, 4:]"
   ]
  },
  {
   "cell_type": "code",
   "execution_count": 10,
   "metadata": {},
   "outputs": [
    {
     "data": {
      "text/plain": [
       "torch.Size([5, 4])"
      ]
     },
     "execution_count": 10,
     "metadata": {},
     "output_type": "execute_result"
    }
   ],
   "source": [
    "y_pred_bb.shape"
   ]
  },
  {
   "cell_type": "code",
   "execution_count": 11,
   "metadata": {},
   "outputs": [
    {
     "data": {
      "text/plain": [
       "torch.Size([5, 20])"
      ]
     },
     "execution_count": 11,
     "metadata": {},
     "output_type": "execute_result"
    }
   ],
   "source": [
    "y_pred_cat.shape"
   ]
  },
  {
   "cell_type": "code",
   "execution_count": 20,
   "metadata": {},
   "outputs": [
    {
     "name": "stdout",
     "output_type": "stream",
     "text": [
      "tensor([[ 1,  2],\n",
      "        [ 3,  1],\n",
      "        [ 1,  0],\n",
      "        [ 2,  3],\n",
      "        [ 3,  2]])\n"
     ]
    }
   ],
   "source": [
    "y_true_cat = torch.empty((BATCH_SIZE, 2), dtype=torch.long).random_(5)\n",
    "print(y_true_cat)"
   ]
  },
  {
   "cell_type": "code",
   "execution_count": 14,
   "metadata": {},
   "outputs": [],
   "source": [
    "y_true_bbox = torch.randn((BATCH_SIZE, BBOX_PPTS))"
   ]
  },
  {
   "cell_type": "code",
   "execution_count": 15,
   "metadata": {},
   "outputs": [
    {
     "data": {
      "text/plain": [
       "tensor([[ 0.0473, -0.1424, -0.4245, -0.6142],\n",
       "        [-0.4192,  0.0221,  2.1934, -2.0416],\n",
       "        [-0.1122, -1.5886, -1.3284,  0.0842],\n",
       "        [-1.4363,  0.5997,  1.6715,  0.7176],\n",
       "        [ 0.8619, -1.8748, -0.6465, -0.4697]])"
      ]
     },
     "execution_count": 15,
     "metadata": {},
     "output_type": "execute_result"
    }
   ],
   "source": [
    "y_true_bbox"
   ]
  },
  {
   "cell_type": "code",
   "execution_count": 16,
   "metadata": {},
   "outputs": [],
   "source": [
    "y_true = (y_true_bbox, y_true_cat)"
   ]
  },
  {
   "cell_type": "code",
   "execution_count": 17,
   "metadata": {},
   "outputs": [
    {
     "data": {
      "text/plain": [
       "(tensor([[ 0.0473, -0.1424, -0.4245, -0.6142],\n",
       "         [-0.4192,  0.0221,  2.1934, -2.0416],\n",
       "         [-0.1122, -1.5886, -1.3284,  0.0842],\n",
       "         [-1.4363,  0.5997,  1.6715,  0.7176],\n",
       "         [ 0.8619, -1.8748, -0.6465, -0.4697]]), tensor([ 2,  0,  1,  2,  2]))"
      ]
     },
     "execution_count": 17,
     "metadata": {},
     "output_type": "execute_result"
    }
   ],
   "source": [
    "y_true"
   ]
  },
  {
   "cell_type": "code",
   "execution_count": 18,
   "metadata": {},
   "outputs": [],
   "source": [
    "# device = torch.device(\"cuda:0\" if torch.cuda.is_available() else \"cpu\")"
   ]
  },
  {
   "cell_type": "code",
   "execution_count": 35,
   "metadata": {},
   "outputs": [],
   "source": [
    "input = torch.randn(3, requires_grad=True)"
   ]
  },
  {
   "cell_type": "code",
   "execution_count": 36,
   "metadata": {},
   "outputs": [],
   "source": [
    "target = torch.empty(3).random_(2)"
   ]
  },
  {
   "cell_type": "code",
   "execution_count": 37,
   "metadata": {},
   "outputs": [
    {
     "data": {
      "text/plain": [
       "tensor([ 1.2914, -1.8268,  0.0940])"
      ]
     },
     "execution_count": 37,
     "metadata": {},
     "output_type": "execute_result"
    }
   ],
   "source": [
    "input"
   ]
  },
  {
   "cell_type": "code",
   "execution_count": 38,
   "metadata": {},
   "outputs": [
    {
     "data": {
      "text/plain": [
       "tensor([ 1.,  0.,  0.])"
      ]
     },
     "execution_count": 38,
     "metadata": {},
     "output_type": "execute_result"
    }
   ],
   "source": [
    "target"
   ]
  },
  {
   "cell_type": "code",
   "execution_count": 39,
   "metadata": {},
   "outputs": [],
   "source": [
    "loss = F.binary_cross_entropy_with_logits(input, target)"
   ]
  },
  {
   "cell_type": "code",
   "execution_count": 40,
   "metadata": {},
   "outputs": [
    {
     "data": {
      "text/plain": [
       "tensor(0.3778)"
      ]
     },
     "execution_count": 40,
     "metadata": {},
     "output_type": "execute_result"
    }
   ],
   "source": [
    "loss"
   ]
  },
  {
   "cell_type": "code",
   "execution_count": 89,
   "metadata": {},
   "outputs": [],
   "source": [
    "# mlb = MultiLabelBinarizer(classes=range(20))\n",
    "# y_true_cate = mlb.fit_transform([[1, 2], [4], [6], [0, 12, 18]])"
   ]
  },
  {
   "cell_type": "code",
   "execution_count": 134,
   "metadata": {},
   "outputs": [],
   "source": [
    "y_true_cate = [[1,2,0,0,0], [4,0,0,0,0], [6,0,0,0,0], [0, 12, 18,0,0]]"
   ]
  },
  {
   "cell_type": "code",
   "execution_count": 135,
   "metadata": {},
   "outputs": [
    {
     "data": {
      "text/plain": [
       "[[1, 2, 0, 0, 0], [4, 0, 0, 0, 0], [6, 0, 0, 0, 0], [0, 12, 18, 0, 0]]"
      ]
     },
     "execution_count": 135,
     "metadata": {},
     "output_type": "execute_result"
    }
   ],
   "source": [
    "y_true_cate"
   ]
  },
  {
   "cell_type": "code",
   "execution_count": 91,
   "metadata": {},
   "outputs": [],
   "source": [
    "y_true_cate = torch.from_numpy(y_true_cate).float()"
   ]
  },
  {
   "cell_type": "code",
   "execution_count": 92,
   "metadata": {},
   "outputs": [
    {
     "data": {
      "text/plain": [
       "torch.Size([4, 20])"
      ]
     },
     "execution_count": 92,
     "metadata": {},
     "output_type": "execute_result"
    }
   ],
   "source": [
    "y_true_cate.shape"
   ]
  },
  {
   "cell_type": "code",
   "execution_count": 93,
   "metadata": {},
   "outputs": [],
   "source": [
    "y_pred_cate = np.random.random((4,20))"
   ]
  },
  {
   "cell_type": "code",
   "execution_count": 94,
   "metadata": {},
   "outputs": [],
   "source": [
    "y_pred_cate = torch.from_numpy(y_pred_cate).float()"
   ]
  },
  {
   "cell_type": "code",
   "execution_count": 95,
   "metadata": {},
   "outputs": [
    {
     "data": {
      "text/plain": [
       "torch.Size([4, 20])"
      ]
     },
     "execution_count": 95,
     "metadata": {},
     "output_type": "execute_result"
    }
   ],
   "source": [
    "y_pred_cate.shape"
   ]
  },
  {
   "cell_type": "code",
   "execution_count": 96,
   "metadata": {},
   "outputs": [
    {
     "data": {
      "text/plain": [
       "tensor(0.9491)"
      ]
     },
     "execution_count": 96,
     "metadata": {},
     "output_type": "execute_result"
    }
   ],
   "source": [
    "F.binary_cross_entropy_with_logits(y_pred_cate, y_true_cate)"
   ]
  },
  {
   "cell_type": "code",
   "execution_count": 107,
   "metadata": {},
   "outputs": [],
   "source": [
    "def pad(original_seq, size, padding):\n",
    "    seq = (original_seq + [padding] * abs((len(original_seq)-size)))[:size]\n",
    "    return seq"
   ]
  },
  {
   "cell_type": "code",
   "execution_count": 109,
   "metadata": {},
   "outputs": [
    {
     "data": {
      "text/plain": [
       "[[1, 2, 3], [1, 2, 3], [1, 2, 3], [0, 0, 0], [0, 0, 0]]"
      ]
     },
     "execution_count": 109,
     "metadata": {},
     "output_type": "execute_result"
    }
   ],
   "source": [
    "pad([[1,2,3], [1,2,3], [1,2,3]], 5, [0,0,0])"
   ]
  },
  {
   "cell_type": "code",
   "execution_count": 110,
   "metadata": {},
   "outputs": [],
   "source": [
    "def one_hot_embedding(labels, num_classes):\n",
    "    return torch.eye(num_classes)[labels.data.cpu()]"
   ]
  },
  {
   "cell_type": "code",
   "execution_count": 115,
   "metadata": {},
   "outputs": [
    {
     "data": {
      "text/plain": [
       "torch.Size([5, 2, 21])"
      ]
     },
     "execution_count": 115,
     "metadata": {},
     "output_type": "execute_result"
    }
   ],
   "source": [
    "one_hot_embedding(y_true_cat, 21).shape"
   ]
  },
  {
   "cell_type": "code",
   "execution_count": 119,
   "metadata": {},
   "outputs": [],
   "source": [
    "a = one_hot_embedding(y_true_cat, 4)"
   ]
  },
  {
   "cell_type": "code",
   "execution_count": 120,
   "metadata": {},
   "outputs": [
    {
     "data": {
      "text/plain": [
       "tensor([[[ 0.,  1.,  0.,  0.],\n",
       "         [ 0.,  0.,  1.,  0.]],\n",
       "\n",
       "        [[ 0.,  0.,  0.,  1.],\n",
       "         [ 0.,  1.,  0.,  0.]],\n",
       "\n",
       "        [[ 0.,  1.,  0.,  0.],\n",
       "         [ 1.,  0.,  0.,  0.]],\n",
       "\n",
       "        [[ 0.,  0.,  1.,  0.],\n",
       "         [ 0.,  0.,  0.,  1.]],\n",
       "\n",
       "        [[ 0.,  0.,  0.,  1.],\n",
       "         [ 0.,  0.,  1.,  0.]]])"
      ]
     },
     "execution_count": 120,
     "metadata": {},
     "output_type": "execute_result"
    }
   ],
   "source": [
    "a"
   ]
  },
  {
   "cell_type": "code",
   "execution_count": 127,
   "metadata": {},
   "outputs": [],
   "source": [
    "a = a.sum(1)"
   ]
  },
  {
   "cell_type": "code",
   "execution_count": 129,
   "metadata": {},
   "outputs": [
    {
     "data": {
      "text/plain": [
       "tensor([[ 0.,  1.,  1.,  0.],\n",
       "        [ 0.,  1.,  0.,  1.],\n",
       "        [ 1.,  1.,  0.,  0.],\n",
       "        [ 0.,  0.,  1.,  1.],\n",
       "        [ 0.,  0.,  1.,  1.]])"
      ]
     },
     "execution_count": 129,
     "metadata": {},
     "output_type": "execute_result"
    }
   ],
   "source": [
    "a.clamp(0,1)"
   ]
  },
  {
   "cell_type": "code",
   "execution_count": 145,
   "metadata": {},
   "outputs": [],
   "source": [
    "def k_hot_embedding(labels, num_classes):\n",
    "    khot = torch.eye(num_classes)[labels.data.cpu()]\n",
    "    khot = khot.sum(1).clamp(0,1)\n",
    "    return khot"
   ]
  },
  {
   "cell_type": "code",
   "execution_count": 171,
   "metadata": {},
   "outputs": [],
   "source": [
    "y_true_cate = [[1,2,0,0,0], [1,0,0,0,0], [1,1,1,3,4], [0, 1,1,4,0]]\n",
    "y_true_cate = torch.from_numpy(np.array(y_true_cate))\n",
    "y_true_khot = k_hot_embedding(y_true_cate, 5)\n",
    "y_true_khot[:, 0] = 0 #background in y_true is dummy\n",
    "y_pred_cate= torch.rand((4,5))"
   ]
  },
  {
   "cell_type": "code",
   "execution_count": 172,
   "metadata": {},
   "outputs": [
    {
     "data": {
      "text/plain": [
       "tensor(0.7988)"
      ]
     },
     "execution_count": 172,
     "metadata": {},
     "output_type": "execute_result"
    }
   ],
   "source": [
    "F.binary_cross_entropy_with_logits(y_pred_cate, y_true_khot)"
   ]
  },
  {
   "cell_type": "code",
   "execution_count": null,
   "metadata": {},
   "outputs": [],
   "source": []
  }
 ],
 "metadata": {
  "kernelspec": {
   "display_name": "Python 3",
   "language": "python",
   "name": "python3"
  },
  "language_info": {
   "codemirror_mode": {
    "name": "ipython",
    "version": 3
   },
   "file_extension": ".py",
   "mimetype": "text/x-python",
   "name": "python",
   "nbconvert_exporter": "python",
   "pygments_lexer": "ipython3",
   "version": "3.6.6"
  }
 },
 "nbformat": 4,
 "nbformat_minor": 2
}
